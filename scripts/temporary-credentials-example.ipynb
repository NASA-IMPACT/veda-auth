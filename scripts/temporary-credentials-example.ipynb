{
 "cells": [
  {
   "cell_type": "code",
   "execution_count": 1,
   "id": "129b20d2",
   "metadata": {},
   "outputs": [],
   "source": [
    "from cognito_client import CognitoAuthClient"
   ]
  },
  {
   "cell_type": "code",
   "execution_count": 2,
   "id": "5a0bf6d9",
   "metadata": {},
   "outputs": [
    {
     "name": "stdout",
     "output_type": "stream",
     "text": [
      "Username: alukach\n"
     ]
    }
   ],
   "source": [
    "# Setup client (get configuration)\n",
    "client = CognitoAuthClient(\n",
    "    client_id=\"40b2chbsilikn0i36po0q0fpk\",\n",
    "    user_pool_id=\"us-west-2_OJVQQhBQQ\",\n",
    "    identity_pool_id=\"us-west-2:9235f4ff-a9c3-43e4-89db-d1b4e20cb201\",\n",
    ")"
   ]
  },
  {
   "cell_type": "code",
   "execution_count": 3,
   "id": "8c8da924",
   "metadata": {},
   "outputs": [
    {
     "name": "stdout",
     "output_type": "stream",
     "text": [
      "········\n"
     ]
    }
   ],
   "source": [
    "# Login (get password, send to Cognito)\n",
    "_ = client.login()"
   ]
  },
  {
   "cell_type": "code",
   "execution_count": 4,
   "id": "1ac6d5ab",
   "metadata": {},
   "outputs": [
    {
     "data": {
      "text/plain": [
       "{'sub': '68f419b9-ade8-4351-a0bd-7550795222a3',\n",
       " 'cognito:groups': ['veda-writers'],\n",
       " 'iss': 'https://cognito-idp.us-west-2.amazonaws.com/us-west-2_OJVQQhBQQ',\n",
       " 'client_id': '40b2chbsilikn0i36po0q0fpk',\n",
       " 'origin_jti': '7bf1006f-cd9e-426c-af10-ad4f20b64203',\n",
       " 'event_id': '852e9528-9517-4e4d-aff7-386403ee3227',\n",
       " 'token_use': 'access',\n",
       " 'scope': 'aws.cognito.signin.user.admin',\n",
       " 'auth_time': 1663798074,\n",
       " 'exp': 1663801674,\n",
       " 'iat': 1663798074,\n",
       " 'jti': '5c864e07-2c3f-46af-8834-dc2ff8c5bd4e',\n",
       " 'username': 'alukach'}"
      ]
     },
     "execution_count": 4,
     "metadata": {},
     "output_type": "execute_result"
    }
   ],
   "source": [
    "import jwt\n",
    "# Examine the access token\n",
    "jwt.decode(client.access_token, options={\"verify_signature\": False})"
   ]
  },
  {
   "cell_type": "code",
   "execution_count": 5,
   "id": "708f06b8",
   "metadata": {},
   "outputs": [
    {
     "data": {
      "text/plain": [
       "{'sub': '68f419b9-ade8-4351-a0bd-7550795222a3',\n",
       " 'cognito:groups': ['veda-writers'],\n",
       " 'email_verified': True,\n",
       " 'cognito:preferred_role': 'arn:aws:iam::853558080719:role/veda-auth-stack-alukach-vedawritersrole6F48E70B-1XCRCQWHJW3P5',\n",
       " 'iss': 'https://cognito-idp.us-west-2.amazonaws.com/us-west-2_OJVQQhBQQ',\n",
       " 'cognito:username': 'alukach',\n",
       " 'origin_jti': '7bf1006f-cd9e-426c-af10-ad4f20b64203',\n",
       " 'cognito:roles': ['arn:aws:iam::853558080719:role/veda-auth-stack-alukach-vedawritersrole6F48E70B-1XCRCQWHJW3P5'],\n",
       " 'aud': '40b2chbsilikn0i36po0q0fpk',\n",
       " 'event_id': '852e9528-9517-4e4d-aff7-386403ee3227',\n",
       " 'token_use': 'id',\n",
       " 'auth_time': 1663798074,\n",
       " 'exp': 1663801674,\n",
       " 'iat': 1663798074,\n",
       " 'jti': '7a9ccd4b-58be-4746-919d-87a75d2b31f5',\n",
       " 'email': 'anthony@developmentseed.org'}"
      ]
     },
     "execution_count": 5,
     "metadata": {},
     "output_type": "execute_result"
    }
   ],
   "source": [
    "# Examine the ID Token\n",
    "jwt.decode(client.id_token, options={\"verify_signature\": False})"
   ]
  },
  {
   "cell_type": "code",
   "execution_count": 6,
   "id": "595e0300",
   "metadata": {},
   "outputs": [],
   "source": [
    "# Fetch AWS Credentials\n",
    "creds = client.get_aws_credentials()"
   ]
  },
  {
   "cell_type": "code",
   "execution_count": 7,
   "id": "bccae079",
   "metadata": {},
   "outputs": [],
   "source": [
    "import boto3\n",
    "s3 = boto3.client(\n",
    "    \"s3\",\n",
    "    aws_access_key_id=creds[\"AccessKeyId\"],\n",
    "    aws_secret_access_key=creds[\"SecretKey\"],\n",
    "    aws_session_token=creds[\"SessionToken\"],\n",
    ")\n",
    "\n",
    "bucket = \"veda-data-store-dev\"\n",
    "key = \"example-file.txt\""
   ]
  },
  {
   "cell_type": "code",
   "execution_count": 8,
   "id": "9051c77d",
   "metadata": {},
   "outputs": [
    {
     "name": "stdout",
     "output_type": "stream",
     "text": [
      "✅ Able to list objects in bucket\n"
     ]
    }
   ],
   "source": [
    "try:\n",
    "    # List objects in bucket\n",
    "    s3.list_objects_v2(\n",
    "        Bucket=bucket,\n",
    "    )\n",
    "    print(f\"✅ Able to list objects in bucket\")\n",
    "except Exception as err:\n",
    "    print(f\"❌ Failed to list objects in bucket, {err}\")"
   ]
  },
  {
   "cell_type": "code",
   "execution_count": 9,
   "id": "3051551b",
   "metadata": {},
   "outputs": [
    {
     "name": "stdout",
     "output_type": "stream",
     "text": [
      "✅ Able to write object to bucket\n"
     ]
    }
   ],
   "source": [
    "try:\n",
    "    # Write to bucket\n",
    "    s3.put_object(\n",
    "        Bucket=bucket,\n",
    "        Key=key,\n",
    "        Body=\"🚀\",\n",
    "    )\n",
    "    print(f\"✅ Able to write object to bucket\")\n",
    "except Exception as err:\n",
    "    print(f\"❌ Failed to write object to bucket, {err}\")"
   ]
  },
  {
   "cell_type": "code",
   "execution_count": 10,
   "id": "f5227d7f",
   "metadata": {},
   "outputs": [
    {
     "name": "stdout",
     "output_type": "stream",
     "text": [
      "✅ Able to read object from bucket\n"
     ]
    }
   ],
   "source": [
    "try:\n",
    "    # Read from bucket\n",
    "    s3.get_object(\n",
    "        Bucket=bucket,\n",
    "        Key=key,\n",
    "    )\n",
    "    print(f\"✅ Able to read object from bucket\")\n",
    "except Exception as err:\n",
    "    print(f\"❌ Failed to read object from bucket, {err}\")"
   ]
  },
  {
   "cell_type": "code",
   "execution_count": null,
   "id": "c09a5c0b",
   "metadata": {},
   "outputs": [],
   "source": []
  }
 ],
 "metadata": {
  "kernelspec": {
   "display_name": "myenv",
   "language": "python",
   "name": "myenv"
  },
  "language_info": {
   "codemirror_mode": {
    "name": "ipython",
    "version": 3
   },
   "file_extension": ".py",
   "mimetype": "text/x-python",
   "name": "python",
   "nbconvert_exporter": "python",
   "pygments_lexer": "ipython3",
   "version": "3.9.13"
  }
 },
 "nbformat": 4,
 "nbformat_minor": 5
}
